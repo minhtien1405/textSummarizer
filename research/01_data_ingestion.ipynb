{
 "cells": [
  {
   "cell_type": "code",
   "execution_count": 2,
   "metadata": {},
   "outputs": [],
   "source": [
    "import os"
   ]
  },
  {
   "cell_type": "code",
   "execution_count": 3,
   "metadata": {},
   "outputs": [
    {
     "data": {
      "text/plain": [
       "'/Users/tien/Documents/mlProjects/textSummarization/textSummarizer/research'"
      ]
     },
     "execution_count": 3,
     "metadata": {},
     "output_type": "execute_result"
    }
   ],
   "source": [
    "%pwd"
   ]
  },
  {
   "cell_type": "code",
   "execution_count": 4,
   "metadata": {},
   "outputs": [],
   "source": [
    "os.chdir(\"../\")"
   ]
  },
  {
   "cell_type": "code",
   "execution_count": 5,
   "metadata": {},
   "outputs": [
    {
     "data": {
      "text/plain": [
       "'/Users/tien/Documents/mlProjects/textSummarization/textSummarizer'"
      ]
     },
     "execution_count": 5,
     "metadata": {},
     "output_type": "execute_result"
    }
   ],
   "source": [
    "%pwd"
   ]
  },
  {
   "cell_type": "code",
   "execution_count": 6,
   "metadata": {},
   "outputs": [],
   "source": [
    "from dataclasses import dataclass\n",
    "from pathlib import Path\n",
    "\n",
    "# data_ingestion:\n",
    "#   root_dir: artifacts/data_ingestion\n",
    "#   source_URL: https://github.com/minhtien1405/textSummarizer/raw/main/summarizer-data.zip\n",
    "#   local_data_file: artifacts/data_ingestion/data.zip\n",
    "#   unzip_dir: artifacts/data_ingestion \n",
    "# Create a return type of the function\n",
    "@dataclass(frozen=True)\n",
    "class DataIngestionConfig:\n",
    "  \"\"\" This is the data class, not the normal python class. \"\"\"\n",
    "  root_dir: Path\n",
    "  source_URL: str\n",
    "  local_data_file: Path\n",
    "  unzip_dir: Path"
   ]
  },
  {
   "cell_type": "code",
   "execution_count": 7,
   "metadata": {},
   "outputs": [],
   "source": [
    "from textSummarizer.constants import *\n",
    "from textSummarizer.utils.common import read_yaml, create_directories"
   ]
  },
  {
   "cell_type": "code",
   "execution_count": 16,
   "metadata": {},
   "outputs": [],
   "source": [
    "class ConfigurationManager:\n",
    "  def __init__(self, config_filepath = CONFIG_FILE_PATH, params_filepath = PARAMS_FILE_PATH):\n",
    "    self.config = read_yaml(config_filepath)\n",
    "    self.params = read_yaml(params_filepath)\n",
    "\n",
    "    create_directories([self.config.artifacts_root])\n",
    "\n",
    "  \n",
    "  def get_data_ingestion_config(self) -> DataIngestionConfig:\n",
    "    config = self.config.data_ingestion\n",
    "    create_directories([config.root_dir])\n",
    "\n",
    "    data_ingestion_config = DataIngestionConfig(\n",
    "      root_dir=config.root_dir,\n",
    "      source_URL=config.source_URL,\n",
    "      local_data_file=config.local_data_file,\n",
    "      unzip_dir=config.unzip_dir\n",
    "    )\n",
    "\n",
    "    return data_ingestion_config"
   ]
  },
  {
   "cell_type": "code",
   "execution_count": 10,
   "metadata": {},
   "outputs": [],
   "source": [
    "# creating Components\n",
    "\n",
    "import os\n",
    "import urllib.request as request\n",
    "import zipfile\n",
    "from  textSummarizer.logging import logger\n",
    "from  textSummarizer.utils.common import get_size\n"
   ]
  },
  {
   "cell_type": "code",
   "execution_count": 22,
   "metadata": {},
   "outputs": [],
   "source": [
    "class DataIngestion:\n",
    "  def __init__(self, config: DataIngestionConfig):\n",
    "    self.config = config\n",
    "\n",
    "  def download_file(self):\n",
    "    if not os.path.exists(self.config.local_data_file):\n",
    "      filename, headers = request.urlretrieve(\n",
    "        url= self.config.source_URL,\n",
    "        filename=self.config.local_data_file\n",
    "      )\n",
    "      logger.info(f\"{filename} downloaded. With following info: \\n{headers}\")\n",
    "    else:\n",
    "      logger.info(f\"File {self.config.local_data_file} already exists. {get_size(Path(self.config.local_data_file))}\")\n",
    "\n",
    "\n",
    "  def extract_zip_file(self):\n",
    "    unzip_path = self.config.unzip_dir\n",
    "    os.makedirs(unzip_path, exist_ok=True)\n",
    "\n",
    "    with zipfile.ZipFile(self.config.local_data_file, 'r') as zip_ref:\n",
    "          zip_ref.extractall(unzip_path)\n"
   ]
  },
  {
   "cell_type": "code",
   "execution_count": 23,
   "metadata": {},
   "outputs": [
    {
     "name": "stdout",
     "output_type": "stream",
     "text": [
      "[2023-07-12 21:24:20: INFO: common: Read config/config.yaml successfully.]\n",
      "[2023-07-12 21:24:20: INFO: common: Read params.yaml successfully.]\n",
      "[2023-07-12 21:24:20: INFO: common: Created directory artifacts]\n",
      "[2023-07-12 21:24:20: INFO: common: Created directory artifacts/data_ingestion]\n",
      "[2023-07-12 21:24:22: INFO: 476732915: artifacts/data_ingestion/data.zip downloaded. With following info: \n",
      "Connection: close\n",
      "Content-Length: 7903594\n",
      "Cache-Control: max-age=300\n",
      "Content-Security-Policy: default-src 'none'; style-src 'unsafe-inline'; sandbox\n",
      "Content-Type: application/zip\n",
      "ETag: \"dbc016a060da18070593b83afff580c9b300f0b6ea4147a7988433e04df246ca\"\n",
      "Strict-Transport-Security: max-age=31536000\n",
      "X-Content-Type-Options: nosniff\n",
      "X-Frame-Options: deny\n",
      "X-XSS-Protection: 1; mode=block\n",
      "X-GitHub-Request-Id: 8B88:21DC:15B4228:1685D23:64AEFDE5\n",
      "Accept-Ranges: bytes\n",
      "Date: Wed, 12 Jul 2023 19:24:21 GMT\n",
      "Via: 1.1 varnish\n",
      "X-Served-By: cache-vie6378-VIE\n",
      "X-Cache: MISS\n",
      "X-Cache-Hits: 0\n",
      "X-Timer: S1689189861.480952,VS0,VE393\n",
      "Vary: Authorization,Accept-Encoding,Origin\n",
      "Access-Control-Allow-Origin: *\n",
      "Cross-Origin-Resource-Policy: cross-origin\n",
      "X-Fastly-Request-ID: 7edca6937ec2ffce6676ff0bd50f19d423c048e0\n",
      "Expires: Wed, 12 Jul 2023 19:29:21 GMT\n",
      "Source-Age: 0\n",
      "\n",
      "]\n"
     ]
    }
   ],
   "source": [
    "# Create pipeline\n",
    "try:\n",
    "  config = ConfigurationManager()\n",
    "  data_ingestion_config = config.get_data_ingestion_config()\n",
    "  data_ingestion = DataIngestion(config = data_ingestion_config)\n",
    "  data_ingestion.download_file()\n",
    "  data_ingestion.extract_zip_file()\n",
    "except Exception as e:\n",
    "  raise e"
   ]
  },
  {
   "cell_type": "code",
   "execution_count": null,
   "metadata": {},
   "outputs": [],
   "source": []
  }
 ],
 "metadata": {
  "kernelspec": {
   "display_name": "Python 3.8.17 ('textS')",
   "language": "python",
   "name": "python3"
  },
  "language_info": {
   "codemirror_mode": {
    "name": "ipython",
    "version": 3
   },
   "file_extension": ".py",
   "mimetype": "text/x-python",
   "name": "python",
   "nbconvert_exporter": "python",
   "pygments_lexer": "ipython3",
   "version": "3.8.17"
  },
  "orig_nbformat": 4,
  "vscode": {
   "interpreter": {
    "hash": "544aaf7086f57ef40f238b4509c1f622b4bcc9e68e7248c442dbd4a7ce60638b"
   }
  }
 },
 "nbformat": 4,
 "nbformat_minor": 2
}
